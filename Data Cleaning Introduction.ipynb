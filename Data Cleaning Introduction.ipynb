{
 "cells": [
  {
   "cell_type": "markdown",
   "id": "b40fc4be",
   "metadata": {},
   "source": [
    "# What is Data Cleaning ?"
   ]
  },
  {
   "cell_type": "raw",
   "id": "1140a518",
   "metadata": {},
   "source": [
    "Data Cleaning is the process of detecting incomplete , incorrect , \n",
    "inaccurate or irrelevant parts of data and the replacing , modifying  \n",
    "or deleting the dirty data."
   ]
  },
  {
   "cell_type": "raw",
   "id": "91ed458e",
   "metadata": {},
   "source": [
    "Data Cleaning is also called Data Cleansing ."
   ]
  },
  {
   "cell_type": "markdown",
   "id": "47d92812",
   "metadata": {},
   "source": [
    "# Process of Data cleaning ?"
   ]
  },
  {
   "cell_type": "code",
   "execution_count": 1,
   "id": "68473ede",
   "metadata": {},
   "outputs": [],
   "source": [
    "# Import Datasets\n",
    "# Merge datasets into dataset\n",
    "# identify errors\n",
    "# Standardize Processes\n",
    "# Scrub for duplicates\n",
    "# Validate accuracy\n"
   ]
  },
  {
   "cell_type": "markdown",
   "id": "9a5b3494",
   "metadata": {},
   "source": [
    "# Data Collection "
   ]
  },
  {
   "cell_type": "raw",
   "id": "fd721313",
   "metadata": {},
   "source": [
    "kaggle dataset"
   ]
  },
  {
   "cell_type": "markdown",
   "id": "d91b9bde",
   "metadata": {},
   "source": [
    "# What is Missing Value / Data ?"
   ]
  },
  {
   "cell_type": "raw",
   "id": "9105718a",
   "metadata": {},
   "source": [
    "In the variable or any observation , value are not stored as\n",
    "missing values/data"
   ]
  },
  {
   "cell_type": "markdown",
   "id": "6c1a9a8b",
   "metadata": {},
   "source": [
    "# What are the methods to handle missing value?"
   ]
  },
  {
   "cell_type": "code",
   "execution_count": 2,
   "id": "bc6fedb0",
   "metadata": {},
   "outputs": [],
   "source": [
    "# Ignore missing values row /delete row \n",
    "\n",
    "# Fill missing value manually\n",
    "\n",
    "# Global constant\n",
    "\n",
    "# Measure of central tendency(mean , median and mode)\n",
    "\n",
    "# Measure of central tendency for each calss\n",
    "\n",
    "# Most probable value (Ml algorithms)"
   ]
  },
  {
   "cell_type": "code",
   "execution_count": null,
   "id": "5b61d5b9",
   "metadata": {},
   "outputs": [],
   "source": []
  }
 ],
 "metadata": {
  "kernelspec": {
   "display_name": "Python 3 (ipykernel)",
   "language": "python",
   "name": "python3"
  },
  "language_info": {
   "codemirror_mode": {
    "name": "ipython",
    "version": 3
   },
   "file_extension": ".py",
   "mimetype": "text/x-python",
   "name": "python",
   "nbconvert_exporter": "python",
   "pygments_lexer": "ipython3",
   "version": "3.9.12"
  }
 },
 "nbformat": 4,
 "nbformat_minor": 5
}
